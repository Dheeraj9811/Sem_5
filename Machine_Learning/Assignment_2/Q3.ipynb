{
  "cells": [
    {
      "cell_type": "code",
      "execution_count": 1,
      "metadata": {
        "colab": {
          "base_uri": "https://localhost:8080/"
        },
        "id": "AdHVWGFFZVxT",
        "outputId": "98ef68c3-5dd4-415e-bdde-f709010a3134"
      },
      "outputs": [
        {
          "output_type": "stream",
          "name": "stdout",
          "text": [
            "Drive already mounted at /content/gdrive; to attempt to forcibly remount, call drive.mount(\"/content/gdrive\", force_remount=True).\n"
          ]
        }
      ],
      "source": [
        "from google.colab import drive\n",
        "drive.mount('/content/gdrive')"
      ]
    },
    {
      "cell_type": "code",
      "execution_count": 2,
      "metadata": {
        "id": "GxVgRo4iZeRT"
      },
      "outputs": [],
      "source": [
        "import sys\n",
        "sys.path.append(\"/content/gdrive/MyDrive/Colab Notebooks\")\n",
        "#changing dir location to colab Notebooks\n"
      ]
    },
    {
      "cell_type": "code",
      "execution_count": 3,
      "metadata": {
        "id": "f2vojbT9ZwHK"
      },
      "outputs": [],
      "source": [
        "import pandas as pd\n",
        "import numpy as np\n",
        "from sklearn.tree import DecisionTreeClassifier\n",
        "from sklearn.preprocessing import LabelEncoder\n",
        "from sklearn.metrics import accuracy_score\n",
        "from scipy import stats"
      ]
    },
    {
      "cell_type": "markdown",
      "metadata": {
        "id": "8HYSRhQWaUJh"
      },
      "source": [
        "Reading csv and changing to data frame"
      ]
    },
    {
      "cell_type": "code",
      "execution_count": 4,
      "metadata": {
        "id": "RWrkwS6GN17Y"
      },
      "outputs": [],
      "source": [
        "df = pd.read_csv(\"/content/gdrive/MyDrive/Colab Notebooks/Ml_assignment/assignment2/BitcoinHeistData.csv\")"
      ]
    },
    {
      "cell_type": "code",
      "execution_count": null,
      "metadata": {
        "colab": {
          "base_uri": "https://localhost:8080/"
        },
        "id": "tzSBXBT3N7Uz",
        "outputId": "6acb4913-ed7e-4cba-8961-e045221c649c"
      },
      "outputs": [
        {
          "name": "stdout",
          "output_type": "stream",
          "text": [
            "<class 'pandas.core.frame.DataFrame'>\n",
            "RangeIndex: 2916697 entries, 0 to 2916696\n",
            "Data columns (total 10 columns):\n",
            " #   Column     Dtype  \n",
            "---  ------     -----  \n",
            " 0   address    object \n",
            " 1   year       int64  \n",
            " 2   day        int64  \n",
            " 3   length     int64  \n",
            " 4   weight     float64\n",
            " 5   count      int64  \n",
            " 6   looped     int64  \n",
            " 7   neighbors  int64  \n",
            " 8   income     float64\n",
            " 9   label      object \n",
            "dtypes: float64(2), int64(6), object(2)\n",
            "memory usage: 222.5+ MB\n"
          ]
        }
      ],
      "source": [
        "df.info()"
      ]
    },
    {
      "cell_type": "markdown",
      "metadata": {
        "id": "FwUact9PbuLD"
      },
      "source": [
        "checking for null vlaue any "
      ]
    },
    {
      "cell_type": "code",
      "execution_count": null,
      "metadata": {
        "colab": {
          "base_uri": "https://localhost:8080/"
        },
        "id": "eLQtKrkhPAZl",
        "outputId": "e07e7107-fc53-4ca4-fef8-c073488aff66"
      },
      "outputs": [
        {
          "name": "stdout",
          "output_type": "stream",
          "text": [
            "False\n",
            "0\n"
          ]
        }
      ],
      "source": [
        "print(df.isnull().any().any())\n",
        "print(df.isnull().sum().sum())\n",
        "# no null vlaue found "
      ]
    },
    {
      "cell_type": "markdown",
      "metadata": {
        "id": "fckKKY10khhz"
      },
      "source": [
        "pre processing"
      ]
    },
    {
      "cell_type": "code",
      "execution_count": 5,
      "metadata": {
        "id": "LcPhw1hyb1OW"
      },
      "outputs": [],
      "source": [
        "lE = LabelEncoder()\n",
        "df['label'] = lE.fit_transform(df['label'])\n",
        "df['address'] = lE.fit_transform(df['address'])\n",
        "df = df.sample(frac=1)\n",
        "#changing label and address type from string to int"
      ]
    },
    {
      "cell_type": "code",
      "execution_count": 6,
      "metadata": {
        "id": "oM50sZ85kl9e"
      },
      "outputs": [],
      "source": [
        "# Split the data into a training, validation,\n",
        "# and testing set (70:15:15 ratio)\n",
        "# total range 2916697 \n",
        "# Now dividing 2916697 in 70:15:15 ratio\n",
        "\n",
        "def split_data(df):\n",
        "  temp = df.to_numpy()\n",
        "  X = temp[:,:-1]\n",
        "  Y = temp[:,- 1]\n",
        "  Y = temp[:,- 1].reshape(Y.shape[0], 1)\n",
        "  \n",
        "  x_train = X[: 2041689, :]\n",
        "  x_test = X[2041689: 2479193, :]\n",
        "  x_val = X[2479193: , :]\n",
        "  y_train = Y[: 2041689, :]\n",
        "  y_test = Y[2041689: 2479193, :]\n",
        "  y_val = Y[2479193: , :]\n",
        "\n",
        "  return x_train, x_test, x_val,y_train,y_test,y_val\n",
        "\n"
      ]
    },
    {
      "cell_type": "code",
      "execution_count": 7,
      "metadata": {
        "id": "6hRx5mdWmzsd"
      },
      "outputs": [],
      "source": [
        "x_train ,x_test,x_val,y_train ,y_test,y_val = split_data(df)"
      ]
    },
    {
      "cell_type": "markdown",
      "metadata": {
        "id": "VZOOwtN8qFsR"
      },
      "source": [
        "Part A) "
      ]
    },
    {
      "cell_type": "code",
      "execution_count": 8,
      "metadata": {
        "id": "BGS9cYoyqHrD"
      },
      "outputs": [],
      "source": [
        "def Decision_tree_Train(x_train,x_test,x_val,y_train,y_test,y_val,type):\n",
        "  for i in [4, 8, 10, 15, 20]:\n",
        "    tree = DecisionTreeClassifier(criterion=type, max_depth=i)\n",
        "    y_pred = tree.fit(x_train, y_train).predict(x_test)\n",
        "    accu = accuracy_score(y_test,y_pred, normalize = True)\n",
        "    print(type,\" for depth-\",i,\"accuracy = \",accu)"
      ]
    },
    {
      "cell_type": "code",
      "execution_count": null,
      "metadata": {
        "colab": {
          "base_uri": "https://localhost:8080/"
        },
        "id": "uc_qagZV3Nei",
        "outputId": "32ca10df-805d-4917-9e83-31587f4128bd"
      },
      "outputs": [
        {
          "name": "stdout",
          "output_type": "stream",
          "text": [
            "gini  for depth- 4 accuracy =  0.9858401294616735\n",
            "gini  for depth- 8 accuracy =  0.9865532657987127\n",
            "gini  for depth- 10 accuracy =  0.9876092561439438\n",
            "gini  for depth- 15 accuracy =  0.9888092451726156\n",
            "gini  for depth- 20 accuracy =  0.987645827238151\n"
          ]
        }
      ],
      "source": [
        "Decision_tree_Train(x_train ,x_test,x_val,y_train ,y_test,y_val,\"gini\")\n",
        "#gini with depth 15 is giving us the best accuracy.\n",
        "#0.9882903927735518"
      ]
    },
    {
      "cell_type": "code",
      "execution_count": null,
      "metadata": {
        "colab": {
          "base_uri": "https://localhost:8080/"
        },
        "id": "8ucFXs_N4RiG",
        "outputId": "094390db-57c2-45ae-9cb4-dc31c7bc4eb6"
      },
      "outputs": [
        {
          "name": "stdout",
          "output_type": "stream",
          "text": [
            "entropy  for depth- 4 accuracy =  0.9857715586600351\n",
            "entropy  for depth- 8 accuracy =  0.9861486980690463\n",
            "entropy  for depth- 10 accuracy =  0.9874904000877707\n",
            "entropy  for depth- 15 accuracy =  0.9889143870684611\n",
            "entropy  for depth- 20 accuracy =  0.9875658279695728\n"
          ]
        }
      ],
      "source": [
        "Decision_tree_Train(x_train ,x_test,x_val,y_train ,y_test,y_val,\"entropy\")\n",
        "#entrophy with depth 15 is giving us the best accuracy.\n",
        "#0.988877815974254"
      ]
    },
    {
      "cell_type": "markdown",
      "metadata": {
        "id": "giyLIH0H57GI"
      },
      "source": [
        "Part-B"
      ]
    },
    {
      "cell_type": "code",
      "execution_count": 9,
      "metadata": {
        "id": "dzP7NOjM58T0"
      },
      "outputs": [],
      "source": [
        "def train_train(x_train,y_train,x_test,y_test, typ, number=100):\n",
        "  store_tree = []\n",
        "  data = np.concatenate([x_train,y_train], axis=1)\n",
        "  # making list of 100 DT according to need of question and stroing \n",
        "  #inside list of name store_tree\n",
        "  for i in range(number):\n",
        "    store_tree.append(DecisionTreeClassifier(criterion=typ, max_depth=3))\n",
        "  \n",
        "  for i in store_tree:\n",
        "    # randomly select 50% data\n",
        "    # limit have 50 percent mark of total size\n",
        "    limit = int(data.shape[0] * 0.5) \n",
        "    np.random.shuffle(data)\n",
        "    x = data[:,:-1]\n",
        "    y = data[:,-1]\n",
        "\n",
        "    x_limit = x[:limit,:]\n",
        "    y_limit = y[:limit]\n",
        "\n",
        "    i=i.fit(x_limit,y_limit)\n",
        "  \n",
        "  # now finding acuracy\n",
        "  y_pred =[]\n",
        "  for tree in store_tree:\n",
        "    y_pred.append(tree.predict(x_test))\n",
        "  # changing y_pred into nparray to use in accuracy model\n",
        "  y_pred = np.array(y_pred)\n",
        "  temp = np.array(stats.mode(y_pred))\n",
        "  f_y_pred = temp[0,0,:]\n",
        "\n",
        "  accu = accuracy_score(y_test,f_y_pred, normalize = True)\n",
        "  print(typ,\" accuracy = \",accu)\n",
        "\n",
        "\n",
        "\n",
        "\n",
        "\n"
      ]
    },
    {
      "cell_type": "code",
      "execution_count": null,
      "metadata": {
        "colab": {
          "base_uri": "https://localhost:8080/"
        },
        "id": "__G978TIfcbo",
        "outputId": "66f477ab-6a4e-47be-b96d-96d0547d5b38"
      },
      "outputs": [
        {
          "name": "stdout",
          "output_type": "stream",
          "text": [
            "gini  accuracy =  0.9858401294616735\n"
          ]
        }
      ],
      "source": [
        "train_train(x_train,y_train,x_test,y_test, \"gini\", number=100)"
      ]
    },
    {
      "cell_type": "code",
      "execution_count": null,
      "metadata": {
        "colab": {
          "base_uri": "https://localhost:8080/"
        },
        "id": "nyBsOH0a-nBD",
        "outputId": "ee2cfab6-57df-4e77-f141-3c3d7c0cd6ad"
      },
      "outputs": [
        {
          "name": "stdout",
          "output_type": "stream",
          "text": [
            "entropy  accuracy =  0.9855041325336454\n"
          ]
        }
      ],
      "source": [
        "train_train(x_train,y_train,x_test,y_test, \"entropy\", number=100)"
      ]
    },
    {
      "cell_type": "markdown",
      "metadata": {
        "id": "ZUZdE0xObCmd"
      },
      "source": [
        "Part-c"
      ]
    },
    {
      "cell_type": "code",
      "execution_count": 9,
      "metadata": {
        "id": "tAZBTkdJaun_"
      },
      "outputs": [],
      "source": [
        "from sklearn.ensemble import AdaBoostClassifier"
      ]
    },
    {
      "cell_type": "code",
      "execution_count": 10,
      "metadata": {
        "id": "8AZp53U8bH4I"
      },
      "outputs": [],
      "source": [
        "def ada_b(x_train,x_test,y_train,y_test,typ):\n",
        "  accu = []\n",
        "  y_test = y_test.reshape(y_test.shape[0])\n",
        "  y_train = y_train.reshape(y_train.shape[0])\n",
        "  for i in [4, 8, 10, 15, 20]:\n",
        "    clf = AdaBoostClassifier(DecisionTreeClassifier(max_depth=15  , criterion=typ), n_estimators=i)\n",
        "    clf.fit(x_train, y_train)\n",
        "\n",
        "    y_pred = clf.predict(x_test)\n",
        "    accu.append(accuracy_score(y_test, y_pred))\n",
        "  return accu"
      ]
    },
    {
      "cell_type": "code",
      "execution_count": 11,
      "metadata": {
        "id": "phoDVVoDnIQ-"
      },
      "outputs": [],
      "source": [
        "temp = ada_b(x_train,x_test,y_train,y_test,\"entropy\");\n"
      ]
    },
    {
      "cell_type": "code",
      "source": [
        "print(temp)"
      ],
      "metadata": {
        "colab": {
          "base_uri": "https://localhost:8080/"
        },
        "id": "dsyw43Glnk9o",
        "outputId": "013daefa-af5c-4b20-a85f-0af926af231c"
      },
      "execution_count": 12,
      "outputs": [
        {
          "output_type": "stream",
          "name": "stdout",
          "text": [
            "[0.9886835320362786, 0.9863589818607372, 0.985901843183148, 0.9869921189291984, 0.9880321094207138]\n"
          ]
        }
      ]
    }
  ],
  "metadata": {
    "colab": {
      "provenance": []
    },
    "kernelspec": {
      "display_name": "Python 3",
      "name": "python3"
    },
    "language_info": {
      "name": "python"
    }
  },
  "nbformat": 4,
  "nbformat_minor": 0
}