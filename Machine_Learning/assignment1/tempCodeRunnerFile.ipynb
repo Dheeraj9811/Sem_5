Ytr_a  = Ytr_a.values
# Xtr = Xtr.values